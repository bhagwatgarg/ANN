{
 "cells": [
  {
   "cell_type": "code",
   "execution_count": 17,
   "metadata": {},
   "outputs": [],
   "source": [
    "import numpy as np\n",
    "import math"
   ]
  },
  {
   "cell_type": "code",
   "execution_count": 67,
   "metadata": {},
   "outputs": [],
   "source": [
    "linear=open(\"logistic_data.txt\", \"r\").read().splitlines()\n",
    "arr= []\n",
    "#reading data\n",
    "for line in linear:\n",
    "    arr.append(line.split(','))\n",
    "a=np.array([float(k) for l in arr for k in l]).reshape(len(arr), 3)\n",
    "np.random.shuffle(a)\n",
    "#splitting into training and validation and test sets\n",
    "x_train=a[0:70, 0:2].reshape(-1, 2)\n",
    "x_val=a[70:85, 0:2].reshape(-1, 2)\n",
    "x_test=a[85:100, 0:2].reshape(-1, 2)\n",
    "y_train=a[0:70, 2].reshape(-1, 1)\n",
    "y_val=a[70:85, 2].reshape(-1, 1)\n",
    "y_test=a[85:100, 2].reshape(-1, 1)"
   ]
  },
  {
   "cell_type": "code",
   "execution_count": 68,
   "metadata": {},
   "outputs": [],
   "source": [
    "#standardizing functions\n",
    "\n",
    "def std_mean(x):\n",
    "    mean_train=np.mean(x, axis=0)\n",
    "    std_train=np.std(x, axis=0)\n",
    "    return mean_train, std_train\n",
    "\n",
    "\n",
    "def standardize_append(x, m, s):\n",
    "    return np.append(np.ones([x.shape[0], 1]), (x-m)/s, axis=1)\n",
    "\n",
    "def calc_accuracy(x, y, theta):\n",
    "    res=sigv(np.dot(x, theta))\n",
    "    count=0\n",
    "    for i in range(0, len(y)):\n",
    "        if (res[i][0]>0.5 and y_train[i][0]==1) or (res[i][0]<0.5 and y_train[i][0]==0):\n",
    "            count+=1\n",
    "    return (count/len(y))"
   ]
  },
  {
   "cell_type": "code",
   "execution_count": 69,
   "metadata": {},
   "outputs": [],
   "source": [
    "#defining necessary functions\n",
    "\n",
    "def sig(x):\n",
    "    return 1/(1+math.exp(-x))\n",
    "sigv=np.vectorize(sig)\n",
    "logv=np.vectorize(math.log)\n",
    "def cost(x, y, lamb, theta):\n",
    "    return (sum(-2*logv(sigv(np.dot(x, theta)))*y -2*logv(1-sigv(np.dot(x, theta)))*(1-y))+sum((lamb*(theta)**2))-(theta[0]**2)*lamb)/(2*len(y))\n",
    "\n",
    "\n",
    "def grad(x, y, lamb, theta):\n",
    "    g=(np.dot(x.transpose(), sigv(np.dot(x, theta))-y)+lamb*theta)/len(y)\n",
    "    g[0]-=lamb*theta[0]/len(y)\n",
    "    return g\n",
    "\n",
    "\n",
    "def grad_des(theta, alpha, g):\n",
    "    return theta - alpha*g"
   ]
  },
  {
   "cell_type": "code",
   "execution_count": 70,
   "metadata": {},
   "outputs": [],
   "source": [
    "#standardizing data\n",
    "\n",
    "mean_t, std_t=std_mean(x_train)\n",
    "x_train_s=standardize_append(x_train, mean_t, std_t)\n",
    "x_val_s=standardize_append(x_val, mean_t, std_t)\n",
    "x_test_s=standardize_append(x_test, mean_t, std_t)"
   ]
  },
  {
   "cell_type": "code",
   "execution_count": 73,
   "metadata": {},
   "outputs": [
    {
     "name": "stdout",
     "output_type": "stream",
     "text": [
      "0.9 0.5333333333333333\n"
     ]
    }
   ],
   "source": [
    "#algorithm\n",
    "\n",
    "theta=np.zeros([x_train_s.shape[1], 1])\n",
    "lamb=0\n",
    "cost_init=cost(x_train_s, y_train, lamb, theta)\n",
    "alpha=1\n",
    "for i in range(0, 10000):\n",
    "    g=grad(x_train_s, y_train, lamb, theta)\n",
    "    theta=grad_des(theta, alpha, g)\n",
    "    \n",
    "#print(cost(x_train_s, y_train, lamb, theta), \" \", cost_init)\n",
    "#print(cost(x_val_s, y_val, lamb, theta))\n",
    "print(calc_accuracy(x_train_s, y_train, theta), calc_accuracy(x_val_s, y_val, theta))"
   ]
  },
  {
   "cell_type": "code",
   "execution_count": 72,
   "metadata": {},
   "outputs": [
    {
     "data": {
      "text/plain": [
       "0.4666666666666667"
      ]
     },
     "execution_count": 72,
     "metadata": {},
     "output_type": "execute_result"
    }
   ],
   "source": [
    "calc_accuracy(x_test_s, y_test, theta)"
   ]
  },
  {
   "cell_type": "code",
   "execution_count": null,
   "metadata": {},
   "outputs": [],
   "source": []
  }
 ],
 "metadata": {
  "kernelspec": {
   "display_name": "Python 3",
   "language": "python",
   "name": "python3"
  },
  "language_info": {
   "codemirror_mode": {
    "name": "ipython",
    "version": 3
   },
   "file_extension": ".py",
   "mimetype": "text/x-python",
   "name": "python",
   "nbconvert_exporter": "python",
   "pygments_lexer": "ipython3",
   "version": "3.6.9"
  }
 },
 "nbformat": 4,
 "nbformat_minor": 4
}
