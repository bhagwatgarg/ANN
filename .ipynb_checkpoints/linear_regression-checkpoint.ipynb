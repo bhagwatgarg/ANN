{
 "cells": [
  {
   "cell_type": "code",
   "execution_count": 235,
   "metadata": {},
   "outputs": [],
   "source": [
    "import numpy as np"
   ]
  },
  {
   "cell_type": "code",
   "execution_count": 334,
   "metadata": {},
   "outputs": [],
   "source": [
    "linear=open(\"linear_data.txt\", \"r\").read().splitlines()\n",
    "arr= []\n",
    "#reading data\n",
    "for line in linear:\n",
    "    arr.append(line.split(','))\n",
    "a=np.array([float(k) for l in arr for k in l]).reshape(len(arr), 2)\n",
    "np.random.shuffle(a)\n",
    "#splitting into training and validation and test sets\n",
    "x_train=a[0:70, 0].reshape(-1, 1)\n",
    "x_val=a[70:85, 0].reshape(-1, 1)\n",
    "x_test=a[85:98, 0].reshape(-1, 1)\n",
    "y_train=a[0:70, 1].reshape(-1, 1)\n",
    "y_val=a[70:85, 1].reshape(-1, 1)\n",
    "y_test=a[85:98, 1].reshape(-1, 1)"
   ]
  },
  {
   "cell_type": "code",
   "execution_count": 335,
   "metadata": {},
   "outputs": [],
   "source": [
    "#standardizing functions\n",
    "\n",
    "def std_mean(x):\n",
    "    mean_train=np.mean(x, axis=0)\n",
    "    std_train=np.std(x, axis=0)\n",
    "    return mean_train, std_train\n",
    "\n",
    "\n",
    "def standardize_append(x, m, s):\n",
    "    return np.append(np.ones([x.shape[0], 1]), (x-m)/s, axis=1)"
   ]
  },
  {
   "cell_type": "code",
   "execution_count": 336,
   "metadata": {},
   "outputs": [],
   "source": [
    "#defining necessary functions\n",
    "\n",
    "def cost(x, y, lamb, theta):\n",
    "    return (sum((np.dot(x, theta)-y)**2)+sum((lamb*(theta)**2))-(theta[0]**2)*lamb)/(2*len(y))\n",
    "\n",
    "\n",
    "def grad(x, y, lamb, theta):\n",
    "    g=(np.dot(x.transpose(), np.dot(x, theta)-y)+lamb*theta)/len(y)\n",
    "    g[0]-=lamb*theta[0]/len(y)\n",
    "    return g\n",
    "\n",
    "\n",
    "def grad_des(theta, alpha, g):\n",
    "    return theta - alpha*g"
   ]
  },
  {
   "cell_type": "code",
   "execution_count": 337,
   "metadata": {},
   "outputs": [],
   "source": [
    "#standardizing data\n",
    "\n",
    "mean_t, std_t=std_mean(x_train)\n",
    "x_train_s=standardize_append(x_train, mean_t, std_t)\n",
    "x_val_s=standardize_append(x_val, mean_t, std_t)\n",
    "x_test_s=standardize_append(x_test, mean_t, std_t)"
   ]
  },
  {
   "cell_type": "code",
   "execution_count": 338,
   "metadata": {},
   "outputs": [
    {
     "name": "stdout",
     "output_type": "stream",
     "text": [
      "[3.86899789]   [30.45185061]\n",
      "[7.84988248]\n"
     ]
    }
   ],
   "source": [
    "#algorithm\n",
    "\n",
    "theta=np.zeros([x_train_s.shape[1], 1])\n",
    "lamb=0\n",
    "cost_init=cost(x_train_s, y_train, lamb, theta)\n",
    "alpha=1\n",
    "for i in range(0, 100):\n",
    "    g=grad(x_train_s, y_train, lamb, theta)\n",
    "    theta=grad_des(theta, alpha, g)\n",
    "    \n",
    "print(cost(x_train_s, y_train, lamb, theta), \" \", cost_init)\n",
    "print(cost(x_val_s, y_val, lamb, theta))"
   ]
  },
  {
   "cell_type": "code",
   "execution_count": 339,
   "metadata": {},
   "outputs": [
    {
     "name": "stdout",
     "output_type": "stream",
     "text": [
      "[3.86899789]   [30.45185061]\n",
      "[7.84988248]\n",
      "[3.96226667]\n"
     ]
    }
   ],
   "source": [
    "#using validation, best results are obtained with lamb=0\n",
    "print(cost(x_train_s, y_train, lamb, theta), \" \", cost_init)\n",
    "print(cost(x_val_s, y_val, lamb, theta))\n",
    "print(cost(x_test_s, y_test, lamb, theta))"
   ]
  },
  {
   "cell_type": "code",
   "execution_count": null,
   "metadata": {},
   "outputs": [],
   "source": []
  },
  {
   "cell_type": "code",
   "execution_count": null,
   "metadata": {},
   "outputs": [],
   "source": []
  }
 ],
 "metadata": {
  "kernelspec": {
   "display_name": "Python 3",
   "language": "python",
   "name": "python3"
  },
  "language_info": {
   "codemirror_mode": {
    "name": "ipython",
    "version": 3
   },
   "file_extension": ".py",
   "mimetype": "text/x-python",
   "name": "python",
   "nbconvert_exporter": "python",
   "pygments_lexer": "ipython3",
   "version": "3.6.9"
  }
 },
 "nbformat": 4,
 "nbformat_minor": 4
}
